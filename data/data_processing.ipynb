{
 "cells": [
  {
   "cell_type": "code",
   "id": "initial_id",
   "metadata": {
    "collapsed": true,
    "ExecuteTime": {
     "end_time": "2025-03-19T15:27:29.095003Z",
     "start_time": "2025-03-19T15:27:29.089251Z"
    }
   },
   "source": [
    "import pandas as pd\n",
    "import numpy as np\n",
    "import matplotlib.pyplot as plt\n",
    "import seaborn as sns\n",
    "import pickle"
   ],
   "outputs": [],
   "execution_count": 83
  },
  {
   "metadata": {
    "ExecuteTime": {
     "end_time": "2025-03-19T17:33:54.997984Z",
     "start_time": "2025-03-19T17:33:54.841708Z"
    }
   },
   "cell_type": "code",
   "source": [
    "import os\n",
    "data_path = os.path.join(\"data\", \"processed_brain_tumor_data.csv\")\n",
    "df = pd.read_csv(data_path)"
   ],
   "id": "1a57d23e1bd36225",
   "outputs": [],
   "execution_count": 87
  },
  {
   "metadata": {
    "ExecuteTime": {
     "end_time": "2025-03-19T14:44:14.619134Z",
     "start_time": "2025-03-19T14:44:14.588026Z"
    }
   },
   "cell_type": "code",
   "source": "df.head()",
   "id": "f1e619f9b58b598c",
   "outputs": [
    {
     "data": {
      "text/plain": [
       "   Patient_ID  Age  Gender Tumor_Type  Tumor_Size  Location        Histology  \\\n",
       "0           1   73    Male  Malignant    5.375612  Temporal      Astrocytoma   \n",
       "1           2   26    Male     Benign    4.847098  Parietal     Glioblastoma   \n",
       "2           3   31    Male     Benign    5.588391  Parietal       Meningioma   \n",
       "3           4   29    Male  Malignant    1.436600  Temporal  Medulloblastoma   \n",
       "4           5   54  Female     Benign    2.417506  Parietal     Glioblastoma   \n",
       "\n",
       "  Stage      Symptom_1 Symptom_2 Symptom_3 Radiation_Treatment  \\\n",
       "0   III  Vision Issues  Seizures  Seizures                  No   \n",
       "1    II       Headache  Headache    Nausea                 Yes   \n",
       "2     I  Vision Issues  Headache  Seizures                  No   \n",
       "3    IV  Vision Issues  Seizures  Headache                 Yes   \n",
       "4     I       Headache  Headache  Seizures                  No   \n",
       "\n",
       "  Surgery_Performed Chemotherapy  Survival_Rate  Tumor_Growth_Rate  \\\n",
       "0                No           No      51.312579           0.111876   \n",
       "1               Yes          Yes      46.373273           2.165736   \n",
       "2                No           No      47.072221           1.884228   \n",
       "3                No          Yes      51.853634           1.283342   \n",
       "4                No          Yes      54.708987           2.069477   \n",
       "\n",
       "  Family_History MRI_Result Follow_Up_Required  \n",
       "0             No   Positive                Yes  \n",
       "1            Yes   Positive                Yes  \n",
       "2             No   Negative                 No  \n",
       "3            Yes   Negative                 No  \n",
       "4             No   Positive                Yes  "
      ],
      "text/html": [
       "<div>\n",
       "<style scoped>\n",
       "    .dataframe tbody tr th:only-of-type {\n",
       "        vertical-align: middle;\n",
       "    }\n",
       "\n",
       "    .dataframe tbody tr th {\n",
       "        vertical-align: top;\n",
       "    }\n",
       "\n",
       "    .dataframe thead th {\n",
       "        text-align: right;\n",
       "    }\n",
       "</style>\n",
       "<table border=\"1\" class=\"dataframe\">\n",
       "  <thead>\n",
       "    <tr style=\"text-align: right;\">\n",
       "      <th></th>\n",
       "      <th>Patient_ID</th>\n",
       "      <th>Age</th>\n",
       "      <th>Gender</th>\n",
       "      <th>Tumor_Type</th>\n",
       "      <th>Tumor_Size</th>\n",
       "      <th>Location</th>\n",
       "      <th>Histology</th>\n",
       "      <th>Stage</th>\n",
       "      <th>Symptom_1</th>\n",
       "      <th>Symptom_2</th>\n",
       "      <th>Symptom_3</th>\n",
       "      <th>Radiation_Treatment</th>\n",
       "      <th>Surgery_Performed</th>\n",
       "      <th>Chemotherapy</th>\n",
       "      <th>Survival_Rate</th>\n",
       "      <th>Tumor_Growth_Rate</th>\n",
       "      <th>Family_History</th>\n",
       "      <th>MRI_Result</th>\n",
       "      <th>Follow_Up_Required</th>\n",
       "    </tr>\n",
       "  </thead>\n",
       "  <tbody>\n",
       "    <tr>\n",
       "      <th>0</th>\n",
       "      <td>1</td>\n",
       "      <td>73</td>\n",
       "      <td>Male</td>\n",
       "      <td>Malignant</td>\n",
       "      <td>5.375612</td>\n",
       "      <td>Temporal</td>\n",
       "      <td>Astrocytoma</td>\n",
       "      <td>III</td>\n",
       "      <td>Vision Issues</td>\n",
       "      <td>Seizures</td>\n",
       "      <td>Seizures</td>\n",
       "      <td>No</td>\n",
       "      <td>No</td>\n",
       "      <td>No</td>\n",
       "      <td>51.312579</td>\n",
       "      <td>0.111876</td>\n",
       "      <td>No</td>\n",
       "      <td>Positive</td>\n",
       "      <td>Yes</td>\n",
       "    </tr>\n",
       "    <tr>\n",
       "      <th>1</th>\n",
       "      <td>2</td>\n",
       "      <td>26</td>\n",
       "      <td>Male</td>\n",
       "      <td>Benign</td>\n",
       "      <td>4.847098</td>\n",
       "      <td>Parietal</td>\n",
       "      <td>Glioblastoma</td>\n",
       "      <td>II</td>\n",
       "      <td>Headache</td>\n",
       "      <td>Headache</td>\n",
       "      <td>Nausea</td>\n",
       "      <td>Yes</td>\n",
       "      <td>Yes</td>\n",
       "      <td>Yes</td>\n",
       "      <td>46.373273</td>\n",
       "      <td>2.165736</td>\n",
       "      <td>Yes</td>\n",
       "      <td>Positive</td>\n",
       "      <td>Yes</td>\n",
       "    </tr>\n",
       "    <tr>\n",
       "      <th>2</th>\n",
       "      <td>3</td>\n",
       "      <td>31</td>\n",
       "      <td>Male</td>\n",
       "      <td>Benign</td>\n",
       "      <td>5.588391</td>\n",
       "      <td>Parietal</td>\n",
       "      <td>Meningioma</td>\n",
       "      <td>I</td>\n",
       "      <td>Vision Issues</td>\n",
       "      <td>Headache</td>\n",
       "      <td>Seizures</td>\n",
       "      <td>No</td>\n",
       "      <td>No</td>\n",
       "      <td>No</td>\n",
       "      <td>47.072221</td>\n",
       "      <td>1.884228</td>\n",
       "      <td>No</td>\n",
       "      <td>Negative</td>\n",
       "      <td>No</td>\n",
       "    </tr>\n",
       "    <tr>\n",
       "      <th>3</th>\n",
       "      <td>4</td>\n",
       "      <td>29</td>\n",
       "      <td>Male</td>\n",
       "      <td>Malignant</td>\n",
       "      <td>1.436600</td>\n",
       "      <td>Temporal</td>\n",
       "      <td>Medulloblastoma</td>\n",
       "      <td>IV</td>\n",
       "      <td>Vision Issues</td>\n",
       "      <td>Seizures</td>\n",
       "      <td>Headache</td>\n",
       "      <td>Yes</td>\n",
       "      <td>No</td>\n",
       "      <td>Yes</td>\n",
       "      <td>51.853634</td>\n",
       "      <td>1.283342</td>\n",
       "      <td>Yes</td>\n",
       "      <td>Negative</td>\n",
       "      <td>No</td>\n",
       "    </tr>\n",
       "    <tr>\n",
       "      <th>4</th>\n",
       "      <td>5</td>\n",
       "      <td>54</td>\n",
       "      <td>Female</td>\n",
       "      <td>Benign</td>\n",
       "      <td>2.417506</td>\n",
       "      <td>Parietal</td>\n",
       "      <td>Glioblastoma</td>\n",
       "      <td>I</td>\n",
       "      <td>Headache</td>\n",
       "      <td>Headache</td>\n",
       "      <td>Seizures</td>\n",
       "      <td>No</td>\n",
       "      <td>No</td>\n",
       "      <td>Yes</td>\n",
       "      <td>54.708987</td>\n",
       "      <td>2.069477</td>\n",
       "      <td>No</td>\n",
       "      <td>Positive</td>\n",
       "      <td>Yes</td>\n",
       "    </tr>\n",
       "  </tbody>\n",
       "</table>\n",
       "</div>"
      ]
     },
     "execution_count": 67,
     "metadata": {},
     "output_type": "execute_result"
    }
   ],
   "execution_count": 67
  },
  {
   "metadata": {
    "ExecuteTime": {
     "end_time": "2025-03-19T14:44:14.781523Z",
     "start_time": "2025-03-19T14:44:14.727905Z"
    }
   },
   "cell_type": "code",
   "source": "df.info()",
   "id": "e1f0ef0d37aead2a",
   "outputs": [
    {
     "name": "stdout",
     "output_type": "stream",
     "text": [
      "<class 'pandas.core.frame.DataFrame'>\n",
      "RangeIndex: 20000 entries, 0 to 19999\n",
      "Data columns (total 19 columns):\n",
      " #   Column               Non-Null Count  Dtype  \n",
      "---  ------               --------------  -----  \n",
      " 0   Patient_ID           20000 non-null  int64  \n",
      " 1   Age                  20000 non-null  int64  \n",
      " 2   Gender               20000 non-null  object \n",
      " 3   Tumor_Type           20000 non-null  object \n",
      " 4   Tumor_Size           20000 non-null  float64\n",
      " 5   Location             20000 non-null  object \n",
      " 6   Histology            20000 non-null  object \n",
      " 7   Stage                20000 non-null  object \n",
      " 8   Symptom_1            20000 non-null  object \n",
      " 9   Symptom_2            20000 non-null  object \n",
      " 10  Symptom_3            20000 non-null  object \n",
      " 11  Radiation_Treatment  20000 non-null  object \n",
      " 12  Surgery_Performed    20000 non-null  object \n",
      " 13  Chemotherapy         20000 non-null  object \n",
      " 14  Survival_Rate        20000 non-null  float64\n",
      " 15  Tumor_Growth_Rate    20000 non-null  float64\n",
      " 16  Family_History       20000 non-null  object \n",
      " 17  MRI_Result           20000 non-null  object \n",
      " 18  Follow_Up_Required   20000 non-null  object \n",
      "dtypes: float64(3), int64(2), object(14)\n",
      "memory usage: 2.9+ MB\n"
     ]
    }
   ],
   "execution_count": 68
  },
  {
   "metadata": {
    "ExecuteTime": {
     "end_time": "2025-03-19T14:44:14.918904Z",
     "start_time": "2025-03-19T14:44:14.865459Z"
    }
   },
   "cell_type": "code",
   "source": "df.describe()",
   "id": "d84a782feb441208",
   "outputs": [
    {
     "data": {
      "text/plain": [
       "         Patient_ID           Age    Tumor_Size  Survival_Rate  \\\n",
       "count  20000.000000  20000.000000  20000.000000   20000.000000   \n",
       "mean   10000.500000     49.433700      5.236552      70.131699   \n",
       "std     5773.647028     17.389296      2.754359      17.270834   \n",
       "min        1.000000     20.000000      0.500410      40.002386   \n",
       "25%     5000.750000     34.000000      2.836686      55.224439   \n",
       "50%    10000.500000     49.000000      5.200675      70.305066   \n",
       "75%    15000.250000     65.000000      7.624299      85.043395   \n",
       "max    20000.000000     79.000000      9.999420      99.998125   \n",
       "\n",
       "       Tumor_Growth_Rate  \n",
       "count       20000.000000  \n",
       "mean            1.547701  \n",
       "std             0.835995  \n",
       "min             0.100017  \n",
       "25%             0.830433  \n",
       "50%             1.541821  \n",
       "75%             2.262484  \n",
       "max             2.999835  "
      ],
      "text/html": [
       "<div>\n",
       "<style scoped>\n",
       "    .dataframe tbody tr th:only-of-type {\n",
       "        vertical-align: middle;\n",
       "    }\n",
       "\n",
       "    .dataframe tbody tr th {\n",
       "        vertical-align: top;\n",
       "    }\n",
       "\n",
       "    .dataframe thead th {\n",
       "        text-align: right;\n",
       "    }\n",
       "</style>\n",
       "<table border=\"1\" class=\"dataframe\">\n",
       "  <thead>\n",
       "    <tr style=\"text-align: right;\">\n",
       "      <th></th>\n",
       "      <th>Patient_ID</th>\n",
       "      <th>Age</th>\n",
       "      <th>Tumor_Size</th>\n",
       "      <th>Survival_Rate</th>\n",
       "      <th>Tumor_Growth_Rate</th>\n",
       "    </tr>\n",
       "  </thead>\n",
       "  <tbody>\n",
       "    <tr>\n",
       "      <th>count</th>\n",
       "      <td>20000.000000</td>\n",
       "      <td>20000.000000</td>\n",
       "      <td>20000.000000</td>\n",
       "      <td>20000.000000</td>\n",
       "      <td>20000.000000</td>\n",
       "    </tr>\n",
       "    <tr>\n",
       "      <th>mean</th>\n",
       "      <td>10000.500000</td>\n",
       "      <td>49.433700</td>\n",
       "      <td>5.236552</td>\n",
       "      <td>70.131699</td>\n",
       "      <td>1.547701</td>\n",
       "    </tr>\n",
       "    <tr>\n",
       "      <th>std</th>\n",
       "      <td>5773.647028</td>\n",
       "      <td>17.389296</td>\n",
       "      <td>2.754359</td>\n",
       "      <td>17.270834</td>\n",
       "      <td>0.835995</td>\n",
       "    </tr>\n",
       "    <tr>\n",
       "      <th>min</th>\n",
       "      <td>1.000000</td>\n",
       "      <td>20.000000</td>\n",
       "      <td>0.500410</td>\n",
       "      <td>40.002386</td>\n",
       "      <td>0.100017</td>\n",
       "    </tr>\n",
       "    <tr>\n",
       "      <th>25%</th>\n",
       "      <td>5000.750000</td>\n",
       "      <td>34.000000</td>\n",
       "      <td>2.836686</td>\n",
       "      <td>55.224439</td>\n",
       "      <td>0.830433</td>\n",
       "    </tr>\n",
       "    <tr>\n",
       "      <th>50%</th>\n",
       "      <td>10000.500000</td>\n",
       "      <td>49.000000</td>\n",
       "      <td>5.200675</td>\n",
       "      <td>70.305066</td>\n",
       "      <td>1.541821</td>\n",
       "    </tr>\n",
       "    <tr>\n",
       "      <th>75%</th>\n",
       "      <td>15000.250000</td>\n",
       "      <td>65.000000</td>\n",
       "      <td>7.624299</td>\n",
       "      <td>85.043395</td>\n",
       "      <td>2.262484</td>\n",
       "    </tr>\n",
       "    <tr>\n",
       "      <th>max</th>\n",
       "      <td>20000.000000</td>\n",
       "      <td>79.000000</td>\n",
       "      <td>9.999420</td>\n",
       "      <td>99.998125</td>\n",
       "      <td>2.999835</td>\n",
       "    </tr>\n",
       "  </tbody>\n",
       "</table>\n",
       "</div>"
      ]
     },
     "execution_count": 69,
     "metadata": {},
     "output_type": "execute_result"
    }
   ],
   "execution_count": 69
  },
  {
   "metadata": {
    "ExecuteTime": {
     "end_time": "2025-03-19T14:44:15.157347Z",
     "start_time": "2025-03-19T14:44:15.124642Z"
    }
   },
   "cell_type": "code",
   "source": "df.isnull().sum()",
   "id": "4caae5286de1a281",
   "outputs": [
    {
     "data": {
      "text/plain": [
       "Patient_ID             0\n",
       "Age                    0\n",
       "Gender                 0\n",
       "Tumor_Type             0\n",
       "Tumor_Size             0\n",
       "Location               0\n",
       "Histology              0\n",
       "Stage                  0\n",
       "Symptom_1              0\n",
       "Symptom_2              0\n",
       "Symptom_3              0\n",
       "Radiation_Treatment    0\n",
       "Surgery_Performed      0\n",
       "Chemotherapy           0\n",
       "Survival_Rate          0\n",
       "Tumor_Growth_Rate      0\n",
       "Family_History         0\n",
       "MRI_Result             0\n",
       "Follow_Up_Required     0\n",
       "dtype: int64"
      ]
     },
     "execution_count": 70,
     "metadata": {},
     "output_type": "execute_result"
    }
   ],
   "execution_count": 70
  },
  {
   "metadata": {
    "ExecuteTime": {
     "end_time": "2025-03-19T14:44:15.294701Z",
     "start_time": "2025-03-19T14:44:15.277924Z"
    }
   },
   "cell_type": "code",
   "source": [
    "print(df['Symptom_1'].value_counts())\n",
    "print(df['Symptom_2'].value_counts())\n",
    "print(df['Symptom_3'].value_counts())"
   ],
   "id": "3b7bf92e551bb523",
   "outputs": [
    {
     "name": "stdout",
     "output_type": "stream",
     "text": [
      "Symptom_1\n",
      "Headache         5045\n",
      "Seizures         5028\n",
      "Nausea           4969\n",
      "Vision Issues    4958\n",
      "Name: count, dtype: int64\n",
      "Symptom_2\n",
      "Seizures         5054\n",
      "Vision Issues    5019\n",
      "Headache         4996\n",
      "Nausea           4931\n",
      "Name: count, dtype: int64\n",
      "Symptom_3\n",
      "Seizures         5027\n",
      "Nausea           5012\n",
      "Vision Issues    5007\n",
      "Headache         4954\n",
      "Name: count, dtype: int64\n"
     ]
    }
   ],
   "execution_count": 71
  },
  {
   "metadata": {
    "ExecuteTime": {
     "end_time": "2025-03-19T14:44:15.415742Z",
     "start_time": "2025-03-19T14:44:15.406406Z"
    }
   },
   "cell_type": "code",
   "source": [
    "df = df.drop(['Patient_ID', 'Radiation_Treatment', 'Surgery_Performed',\n",
    "              'Chemotherapy', 'Survival_Rate', 'Tumor_Growth_Rate',\n",
    "              'MRI_Result', 'Follow_Up_Required', 'Stage'], axis=1)\n"
   ],
   "id": "33b9b1e49c83a101",
   "outputs": [],
   "execution_count": 72
  },
  {
   "metadata": {
    "ExecuteTime": {
     "end_time": "2025-03-19T14:44:15.587313Z",
     "start_time": "2025-03-19T14:44:15.557865Z"
    }
   },
   "cell_type": "code",
   "source": "df.info()",
   "id": "e472ff7f6c967867",
   "outputs": [
    {
     "name": "stdout",
     "output_type": "stream",
     "text": [
      "<class 'pandas.core.frame.DataFrame'>\n",
      "RangeIndex: 20000 entries, 0 to 19999\n",
      "Data columns (total 10 columns):\n",
      " #   Column          Non-Null Count  Dtype  \n",
      "---  ------          --------------  -----  \n",
      " 0   Age             20000 non-null  int64  \n",
      " 1   Gender          20000 non-null  object \n",
      " 2   Tumor_Type      20000 non-null  object \n",
      " 3   Tumor_Size      20000 non-null  float64\n",
      " 4   Location        20000 non-null  object \n",
      " 5   Histology       20000 non-null  object \n",
      " 6   Symptom_1       20000 non-null  object \n",
      " 7   Symptom_2       20000 non-null  object \n",
      " 8   Symptom_3       20000 non-null  object \n",
      " 9   Family_History  20000 non-null  object \n",
      "dtypes: float64(1), int64(1), object(8)\n",
      "memory usage: 1.5+ MB\n"
     ]
    }
   ],
   "execution_count": 73
  },
  {
   "metadata": {
    "ExecuteTime": {
     "end_time": "2025-03-19T14:44:15.664567Z",
     "start_time": "2025-03-19T14:44:15.652661Z"
    }
   },
   "cell_type": "code",
   "source": [
    "print(df['Histology'].value_counts())\n",
    "print(df['Location'].value_counts())\n"
   ],
   "id": "45017266ec83f2a",
   "outputs": [
    {
     "name": "stdout",
     "output_type": "stream",
     "text": [
      "Histology\n",
      "Glioblastoma       5068\n",
      "Meningioma         5016\n",
      "Medulloblastoma    4979\n",
      "Astrocytoma        4937\n",
      "Name: count, dtype: int64\n",
      "Location\n",
      "Temporal     5118\n",
      "Parietal     4990\n",
      "Occipital    4967\n",
      "Frontal      4925\n",
      "Name: count, dtype: int64\n"
     ]
    }
   ],
   "execution_count": 74
  },
  {
   "metadata": {
    "ExecuteTime": {
     "end_time": "2025-03-19T14:44:15.729734Z",
     "start_time": "2025-03-19T14:44:15.719699Z"
    }
   },
   "cell_type": "code",
   "source": [
    "categorical_features = df.select_dtypes(include=[\"object\"]).columns\n",
    "print(\"Categorical Features:\", categorical_features)"
   ],
   "id": "3f476009bd4c9813",
   "outputs": [
    {
     "name": "stdout",
     "output_type": "stream",
     "text": [
      "Categorical Features: Index(['Gender', 'Tumor_Type', 'Location', 'Histology', 'Symptom_1',\n",
      "       'Symptom_2', 'Symptom_3', 'Family_History'],\n",
      "      dtype='object')\n"
     ]
    }
   ],
   "execution_count": 75
  },
  {
   "metadata": {
    "ExecuteTime": {
     "end_time": "2025-03-19T14:44:15.798429Z",
     "start_time": "2025-03-19T14:44:15.788970Z"
    }
   },
   "cell_type": "code",
   "source": "categorical_features = ['Gender', 'Location', 'Histology', 'Symptom_1','Symptom_2', 'Symptom_3', 'Family_History']",
   "id": "ac6095f99abb2c90",
   "outputs": [],
   "execution_count": 76
  },
  {
   "metadata": {
    "ExecuteTime": {
     "end_time": "2025-03-19T14:44:15.891467Z",
     "start_time": "2025-03-19T14:44:15.869930Z"
    }
   },
   "cell_type": "code",
   "source": "df[categorical_features] = df[categorical_features].astype(str)\n",
   "id": "39af7a134b8e9d94",
   "outputs": [],
   "execution_count": 77
  },
  {
   "metadata": {
    "ExecuteTime": {
     "end_time": "2025-03-19T14:44:16.068273Z",
     "start_time": "2025-03-19T14:44:15.945834Z"
    }
   },
   "cell_type": "code",
   "source": [
    "from sklearn.preprocessing import OneHotEncoder\n",
    "\n",
    "encoder = OneHotEncoder(sparse_output=False)\n",
    "one_hot_encoded = encoder.fit_transform(df[categorical_features])\n",
    "one_hot_df = pd.DataFrame(one_hot_encoded, columns=encoder.get_feature_names_out(categorical_features))\n",
    "df_encoded = pd.concat([df, one_hot_df], axis=1)\n",
    "df = df_encoded.drop(categorical_features, axis=1)\n",
    "print(f\"Encoded data : \\n{df}\")"
   ],
   "id": "e99304bc18790ee0",
   "outputs": [
    {
     "name": "stdout",
     "output_type": "stream",
     "text": [
      "Encoded data : \n",
      "       Age Tumor_Type  Tumor_Size  Gender_Female  Gender_Male  \\\n",
      "0       73  Malignant    5.375612            0.0          1.0   \n",
      "1       26     Benign    4.847098            0.0          1.0   \n",
      "2       31     Benign    5.588391            0.0          1.0   \n",
      "3       29  Malignant    1.436600            0.0          1.0   \n",
      "4       54     Benign    2.417506            1.0          0.0   \n",
      "...    ...        ...         ...            ...          ...   \n",
      "19995   21  Malignant    9.612013            0.0          1.0   \n",
      "19996   32     Benign    1.543560            1.0          0.0   \n",
      "19997   57     Benign    3.618634            1.0          0.0   \n",
      "19998   68  Malignant    8.519086            0.0          1.0   \n",
      "19999   61     Benign    9.716768            0.0          1.0   \n",
      "\n",
      "       Location_Frontal  Location_Occipital  Location_Parietal  \\\n",
      "0                   0.0                 0.0                0.0   \n",
      "1                   0.0                 0.0                1.0   \n",
      "2                   0.0                 0.0                1.0   \n",
      "3                   0.0                 0.0                0.0   \n",
      "4                   0.0                 0.0                1.0   \n",
      "...                 ...                 ...                ...   \n",
      "19995               0.0                 0.0                1.0   \n",
      "19996               0.0                 0.0                0.0   \n",
      "19997               0.0                 0.0                0.0   \n",
      "19998               0.0                 0.0                1.0   \n",
      "19999               0.0                 0.0                0.0   \n",
      "\n",
      "       Location_Temporal  Histology_Astrocytoma  ...  Symptom_2_Headache  \\\n",
      "0                    1.0                    1.0  ...                 0.0   \n",
      "1                    0.0                    0.0  ...                 1.0   \n",
      "2                    0.0                    0.0  ...                 1.0   \n",
      "3                    1.0                    0.0  ...                 0.0   \n",
      "4                    0.0                    0.0  ...                 1.0   \n",
      "...                  ...                    ...  ...                 ...   \n",
      "19995                0.0                    0.0  ...                 0.0   \n",
      "19996                1.0                    0.0  ...                 1.0   \n",
      "19997                1.0                    0.0  ...                 0.0   \n",
      "19998                0.0                    0.0  ...                 1.0   \n",
      "19999                1.0                    0.0  ...                 0.0   \n",
      "\n",
      "       Symptom_2_Nausea  Symptom_2_Seizures  Symptom_2_Vision Issues  \\\n",
      "0                   0.0                 1.0                      0.0   \n",
      "1                   0.0                 0.0                      0.0   \n",
      "2                   0.0                 0.0                      0.0   \n",
      "3                   0.0                 1.0                      0.0   \n",
      "4                   0.0                 0.0                      0.0   \n",
      "...                 ...                 ...                      ...   \n",
      "19995               1.0                 0.0                      0.0   \n",
      "19996               0.0                 0.0                      0.0   \n",
      "19997               0.0                 0.0                      1.0   \n",
      "19998               0.0                 0.0                      0.0   \n",
      "19999               0.0                 1.0                      0.0   \n",
      "\n",
      "       Symptom_3_Headache  Symptom_3_Nausea  Symptom_3_Seizures  \\\n",
      "0                     0.0               0.0                 1.0   \n",
      "1                     0.0               1.0                 0.0   \n",
      "2                     0.0               0.0                 1.0   \n",
      "3                     1.0               0.0                 0.0   \n",
      "4                     0.0               0.0                 1.0   \n",
      "...                   ...               ...                 ...   \n",
      "19995                 0.0               0.0                 0.0   \n",
      "19996                 0.0               0.0                 0.0   \n",
      "19997                 0.0               1.0                 0.0   \n",
      "19998                 0.0               0.0                 0.0   \n",
      "19999                 0.0               1.0                 0.0   \n",
      "\n",
      "       Symptom_3_Vision Issues  Family_History_No  Family_History_Yes  \n",
      "0                          0.0                1.0                 0.0  \n",
      "1                          0.0                0.0                 1.0  \n",
      "2                          0.0                1.0                 0.0  \n",
      "3                          0.0                0.0                 1.0  \n",
      "4                          0.0                1.0                 0.0  \n",
      "...                        ...                ...                 ...  \n",
      "19995                      1.0                1.0                 0.0  \n",
      "19996                      1.0                1.0                 0.0  \n",
      "19997                      0.0                1.0                 0.0  \n",
      "19998                      1.0                1.0                 0.0  \n",
      "19999                      0.0                0.0                 1.0  \n",
      "\n",
      "[20000 rows x 27 columns]\n"
     ]
    }
   ],
   "execution_count": 78
  },
  {
   "metadata": {
    "ExecuteTime": {
     "end_time": "2025-03-19T15:31:03.890292Z",
     "start_time": "2025-03-19T15:31:03.882939Z"
    }
   },
   "cell_type": "code",
   "source": [
    "with open('encoder.pkl', 'wb') as encoder_file:\n",
    "    pickle.dump(encoder, encoder_file)"
   ],
   "id": "df41aff115b0c20c",
   "outputs": [],
   "execution_count": 86
  },
  {
   "metadata": {
    "ExecuteTime": {
     "end_time": "2025-03-19T14:48:46.365087Z",
     "start_time": "2025-03-19T14:48:46.357150Z"
    }
   },
   "cell_type": "code",
   "source": "df.columns",
   "id": "ebe7e3df7f57fd8f",
   "outputs": [
    {
     "data": {
      "text/plain": [
       "Index(['Age', 'Tumor_Type', 'Tumor_Size', 'Gender_Female', 'Gender_Male',\n",
       "       'Location_Frontal', 'Location_Occipital', 'Location_Parietal',\n",
       "       'Location_Temporal', 'Histology_Astrocytoma', 'Histology_Glioblastoma',\n",
       "       'Histology_Medulloblastoma', 'Histology_Meningioma',\n",
       "       'Symptom_1_Headache', 'Symptom_1_Nausea', 'Symptom_1_Seizures',\n",
       "       'Symptom_1_Vision Issues', 'Symptom_2_Headache', 'Symptom_2_Nausea',\n",
       "       'Symptom_2_Seizures', 'Symptom_2_Vision Issues', 'Symptom_3_Headache',\n",
       "       'Symptom_3_Nausea', 'Symptom_3_Seizures', 'Symptom_3_Vision Issues',\n",
       "       'Family_History_No', 'Family_History_Yes'],\n",
       "      dtype='object')"
      ]
     },
     "execution_count": 82,
     "metadata": {},
     "output_type": "execute_result"
    }
   ],
   "execution_count": 82
  },
  {
   "metadata": {
    "ExecuteTime": {
     "end_time": "2025-03-19T14:44:16.181463Z",
     "start_time": "2025-03-19T14:44:16.124945Z"
    }
   },
   "cell_type": "code",
   "source": "df.head()",
   "id": "cb6ebf5518e0c22c",
   "outputs": [
    {
     "data": {
      "text/plain": [
       "   Age Tumor_Type  Tumor_Size  Gender_Female  Gender_Male  Location_Frontal  \\\n",
       "0   73  Malignant    5.375612            0.0          1.0               0.0   \n",
       "1   26     Benign    4.847098            0.0          1.0               0.0   \n",
       "2   31     Benign    5.588391            0.0          1.0               0.0   \n",
       "3   29  Malignant    1.436600            0.0          1.0               0.0   \n",
       "4   54     Benign    2.417506            1.0          0.0               0.0   \n",
       "\n",
       "   Location_Occipital  Location_Parietal  Location_Temporal  \\\n",
       "0                 0.0                0.0                1.0   \n",
       "1                 0.0                1.0                0.0   \n",
       "2                 0.0                1.0                0.0   \n",
       "3                 0.0                0.0                1.0   \n",
       "4                 0.0                1.0                0.0   \n",
       "\n",
       "   Histology_Astrocytoma  ...  Symptom_2_Headache  Symptom_2_Nausea  \\\n",
       "0                    1.0  ...                 0.0               0.0   \n",
       "1                    0.0  ...                 1.0               0.0   \n",
       "2                    0.0  ...                 1.0               0.0   \n",
       "3                    0.0  ...                 0.0               0.0   \n",
       "4                    0.0  ...                 1.0               0.0   \n",
       "\n",
       "   Symptom_2_Seizures  Symptom_2_Vision Issues  Symptom_3_Headache  \\\n",
       "0                 1.0                      0.0                 0.0   \n",
       "1                 0.0                      0.0                 0.0   \n",
       "2                 0.0                      0.0                 0.0   \n",
       "3                 1.0                      0.0                 1.0   \n",
       "4                 0.0                      0.0                 0.0   \n",
       "\n",
       "   Symptom_3_Nausea  Symptom_3_Seizures  Symptom_3_Vision Issues  \\\n",
       "0               0.0                 1.0                      0.0   \n",
       "1               1.0                 0.0                      0.0   \n",
       "2               0.0                 1.0                      0.0   \n",
       "3               0.0                 0.0                      0.0   \n",
       "4               0.0                 1.0                      0.0   \n",
       "\n",
       "   Family_History_No  Family_History_Yes  \n",
       "0                1.0                 0.0  \n",
       "1                0.0                 1.0  \n",
       "2                1.0                 0.0  \n",
       "3                0.0                 1.0  \n",
       "4                1.0                 0.0  \n",
       "\n",
       "[5 rows x 27 columns]"
      ],
      "text/html": [
       "<div>\n",
       "<style scoped>\n",
       "    .dataframe tbody tr th:only-of-type {\n",
       "        vertical-align: middle;\n",
       "    }\n",
       "\n",
       "    .dataframe tbody tr th {\n",
       "        vertical-align: top;\n",
       "    }\n",
       "\n",
       "    .dataframe thead th {\n",
       "        text-align: right;\n",
       "    }\n",
       "</style>\n",
       "<table border=\"1\" class=\"dataframe\">\n",
       "  <thead>\n",
       "    <tr style=\"text-align: right;\">\n",
       "      <th></th>\n",
       "      <th>Age</th>\n",
       "      <th>Tumor_Type</th>\n",
       "      <th>Tumor_Size</th>\n",
       "      <th>Gender_Female</th>\n",
       "      <th>Gender_Male</th>\n",
       "      <th>Location_Frontal</th>\n",
       "      <th>Location_Occipital</th>\n",
       "      <th>Location_Parietal</th>\n",
       "      <th>Location_Temporal</th>\n",
       "      <th>Histology_Astrocytoma</th>\n",
       "      <th>...</th>\n",
       "      <th>Symptom_2_Headache</th>\n",
       "      <th>Symptom_2_Nausea</th>\n",
       "      <th>Symptom_2_Seizures</th>\n",
       "      <th>Symptom_2_Vision Issues</th>\n",
       "      <th>Symptom_3_Headache</th>\n",
       "      <th>Symptom_3_Nausea</th>\n",
       "      <th>Symptom_3_Seizures</th>\n",
       "      <th>Symptom_3_Vision Issues</th>\n",
       "      <th>Family_History_No</th>\n",
       "      <th>Family_History_Yes</th>\n",
       "    </tr>\n",
       "  </thead>\n",
       "  <tbody>\n",
       "    <tr>\n",
       "      <th>0</th>\n",
       "      <td>73</td>\n",
       "      <td>Malignant</td>\n",
       "      <td>5.375612</td>\n",
       "      <td>0.0</td>\n",
       "      <td>1.0</td>\n",
       "      <td>0.0</td>\n",
       "      <td>0.0</td>\n",
       "      <td>0.0</td>\n",
       "      <td>1.0</td>\n",
       "      <td>1.0</td>\n",
       "      <td>...</td>\n",
       "      <td>0.0</td>\n",
       "      <td>0.0</td>\n",
       "      <td>1.0</td>\n",
       "      <td>0.0</td>\n",
       "      <td>0.0</td>\n",
       "      <td>0.0</td>\n",
       "      <td>1.0</td>\n",
       "      <td>0.0</td>\n",
       "      <td>1.0</td>\n",
       "      <td>0.0</td>\n",
       "    </tr>\n",
       "    <tr>\n",
       "      <th>1</th>\n",
       "      <td>26</td>\n",
       "      <td>Benign</td>\n",
       "      <td>4.847098</td>\n",
       "      <td>0.0</td>\n",
       "      <td>1.0</td>\n",
       "      <td>0.0</td>\n",
       "      <td>0.0</td>\n",
       "      <td>1.0</td>\n",
       "      <td>0.0</td>\n",
       "      <td>0.0</td>\n",
       "      <td>...</td>\n",
       "      <td>1.0</td>\n",
       "      <td>0.0</td>\n",
       "      <td>0.0</td>\n",
       "      <td>0.0</td>\n",
       "      <td>0.0</td>\n",
       "      <td>1.0</td>\n",
       "      <td>0.0</td>\n",
       "      <td>0.0</td>\n",
       "      <td>0.0</td>\n",
       "      <td>1.0</td>\n",
       "    </tr>\n",
       "    <tr>\n",
       "      <th>2</th>\n",
       "      <td>31</td>\n",
       "      <td>Benign</td>\n",
       "      <td>5.588391</td>\n",
       "      <td>0.0</td>\n",
       "      <td>1.0</td>\n",
       "      <td>0.0</td>\n",
       "      <td>0.0</td>\n",
       "      <td>1.0</td>\n",
       "      <td>0.0</td>\n",
       "      <td>0.0</td>\n",
       "      <td>...</td>\n",
       "      <td>1.0</td>\n",
       "      <td>0.0</td>\n",
       "      <td>0.0</td>\n",
       "      <td>0.0</td>\n",
       "      <td>0.0</td>\n",
       "      <td>0.0</td>\n",
       "      <td>1.0</td>\n",
       "      <td>0.0</td>\n",
       "      <td>1.0</td>\n",
       "      <td>0.0</td>\n",
       "    </tr>\n",
       "    <tr>\n",
       "      <th>3</th>\n",
       "      <td>29</td>\n",
       "      <td>Malignant</td>\n",
       "      <td>1.436600</td>\n",
       "      <td>0.0</td>\n",
       "      <td>1.0</td>\n",
       "      <td>0.0</td>\n",
       "      <td>0.0</td>\n",
       "      <td>0.0</td>\n",
       "      <td>1.0</td>\n",
       "      <td>0.0</td>\n",
       "      <td>...</td>\n",
       "      <td>0.0</td>\n",
       "      <td>0.0</td>\n",
       "      <td>1.0</td>\n",
       "      <td>0.0</td>\n",
       "      <td>1.0</td>\n",
       "      <td>0.0</td>\n",
       "      <td>0.0</td>\n",
       "      <td>0.0</td>\n",
       "      <td>0.0</td>\n",
       "      <td>1.0</td>\n",
       "    </tr>\n",
       "    <tr>\n",
       "      <th>4</th>\n",
       "      <td>54</td>\n",
       "      <td>Benign</td>\n",
       "      <td>2.417506</td>\n",
       "      <td>1.0</td>\n",
       "      <td>0.0</td>\n",
       "      <td>0.0</td>\n",
       "      <td>0.0</td>\n",
       "      <td>1.0</td>\n",
       "      <td>0.0</td>\n",
       "      <td>0.0</td>\n",
       "      <td>...</td>\n",
       "      <td>1.0</td>\n",
       "      <td>0.0</td>\n",
       "      <td>0.0</td>\n",
       "      <td>0.0</td>\n",
       "      <td>0.0</td>\n",
       "      <td>0.0</td>\n",
       "      <td>1.0</td>\n",
       "      <td>0.0</td>\n",
       "      <td>1.0</td>\n",
       "      <td>0.0</td>\n",
       "    </tr>\n",
       "  </tbody>\n",
       "</table>\n",
       "<p>5 rows × 27 columns</p>\n",
       "</div>"
      ]
     },
     "execution_count": 79,
     "metadata": {},
     "output_type": "execute_result"
    }
   ],
   "execution_count": 79
  },
  {
   "metadata": {
    "ExecuteTime": {
     "end_time": "2025-03-19T14:44:16.877997Z",
     "start_time": "2025-03-19T14:44:16.302035Z"
    }
   },
   "cell_type": "code",
   "source": [
    "# Save DataFrame to a CSV file\n",
    "df.to_csv('processed_brain_tumor_data.csv', index=False)\n"
   ],
   "id": "f1e4d7e2b920ca34",
   "outputs": [],
   "execution_count": 80
  },
  {
   "metadata": {
    "ExecuteTime": {
     "end_time": "2025-03-19T14:44:16.944412Z",
     "start_time": "2025-03-19T14:44:16.935065Z"
    }
   },
   "cell_type": "code",
   "source": [
    "import os\n",
    "print(os.listdir())  # Lists all files in the directory to confirm the CSV was saved\n"
   ],
   "id": "670a35fa12d71fef",
   "outputs": [
    {
     "name": "stdout",
     "output_type": "stream",
     "text": [
      "['.idea', 'app', 'data', 'model', 'processed_brain_tumor_data.csv']\n"
     ]
    }
   ],
   "execution_count": 81
  },
  {
   "metadata": {
    "ExecuteTime": {
     "end_time": "2025-03-19T14:44:17.060832Z",
     "start_time": "2025-03-19T14:44:17.052507Z"
    }
   },
   "cell_type": "code",
   "source": "",
   "id": "4876ca0f60b6d844",
   "outputs": [],
   "execution_count": null
  }
 ],
 "metadata": {
  "kernelspec": {
   "display_name": "Python 3",
   "language": "python",
   "name": "python3"
  },
  "language_info": {
   "codemirror_mode": {
    "name": "ipython",
    "version": 2
   },
   "file_extension": ".py",
   "mimetype": "text/x-python",
   "name": "python",
   "nbconvert_exporter": "python",
   "pygments_lexer": "ipython2",
   "version": "2.7.6"
  }
 },
 "nbformat": 4,
 "nbformat_minor": 5
}
